{
  "nbformat": 4,
  "nbformat_minor": 0,
  "metadata": {
    "colab": {
      "name": "Webinar_2.ipynb",
      "provenance": [],
      "collapsed_sections": [],
      "include_colab_link": true
    },
    "kernelspec": {
      "name": "python3",
      "display_name": "Python 3"
    }
  },
  "cells": [
    {
      "cell_type": "markdown",
      "metadata": {
        "id": "view-in-github",
        "colab_type": "text"
      },
      "source": [
        "<a href=\"https://colab.research.google.com/github/diazonic/webinar-python-101/blob/master/Webinar_2.ipynb\" target=\"_parent\"><img src=\"https://colab.research.google.com/assets/colab-badge.svg\" alt=\"Open In Colab\"/></a>"
      ]
    },
    {
      "cell_type": "code",
      "metadata": {
        "id": "oQnktRndy0Rc",
        "colab_type": "code",
        "outputId": "5a184fa2-da27-49ce-82a7-8c4c0375fbc5",
        "colab": {
          "base_uri": "https://localhost:8080/",
          "height": 34
        }
      },
      "source": [
        "print(\"Hello guys\")"
      ],
      "execution_count": 0,
      "outputs": [
        {
          "output_type": "stream",
          "text": [
            "Hello guys\n"
          ],
          "name": "stdout"
        }
      ]
    },
    {
      "cell_type": "code",
      "metadata": {
        "id": "vLT1BDX4zmdp",
        "colab_type": "code",
        "outputId": "642dca10-de93-4613-c09f-a3fbdd664bb4",
        "colab": {
          "base_uri": "https://localhost:8080/",
          "height": 34
        }
      },
      "source": [
        "a = input(\"Which webinar are you attending?\")"
      ],
      "execution_count": 0,
      "outputs": [
        {
          "output_type": "stream",
          "text": [
            "Which webinar are you attending?Python\n"
          ],
          "name": "stdout"
        }
      ]
    },
    {
      "cell_type": "code",
      "metadata": {
        "id": "WJkHS6i40PhX",
        "colab_type": "code",
        "outputId": "1ac76a82-155c-4d91-9163-939445fa9fbc",
        "colab": {
          "base_uri": "https://localhost:8080/",
          "height": 34
        }
      },
      "source": [
        "print(a)"
      ],
      "execution_count": 0,
      "outputs": [
        {
          "output_type": "stream",
          "text": [
            "Python\n"
          ],
          "name": "stdout"
        }
      ]
    },
    {
      "cell_type": "code",
      "metadata": {
        "id": "BA1JB6tm0Tw7",
        "colab_type": "code",
        "outputId": "56af27cf-d6a8-4839-eb0c-e0598ee70db4",
        "colab": {
          "base_uri": "https://localhost:8080/",
          "height": 34
        }
      },
      "source": [
        "print(\"I am attending \" ,a)"
      ],
      "execution_count": 0,
      "outputs": [
        {
          "output_type": "stream",
          "text": [
            "I am attending  Python\n"
          ],
          "name": "stdout"
        }
      ]
    },
    {
      "cell_type": "code",
      "metadata": {
        "id": "YeSyq4_40be0",
        "colab_type": "code",
        "outputId": "512066be-e4e7-4d97-f722-b0bdb32f5aed",
        "colab": {
          "base_uri": "https://localhost:8080/",
          "height": 34
        }
      },
      "source": [
        "a"
      ],
      "execution_count": 0,
      "outputs": [
        {
          "output_type": "execute_result",
          "data": {
            "text/plain": [
              "'Python'"
            ]
          },
          "metadata": {
            "tags": []
          },
          "execution_count": 6
        }
      ]
    },
    {
      "cell_type": "code",
      "metadata": {
        "id": "DKWwVydd0jSt",
        "colab_type": "code",
        "colab": {}
      },
      "source": [
        "a = '''Ameer'''\n",
        "b = 2"
      ],
      "execution_count": 0,
      "outputs": []
    },
    {
      "cell_type": "code",
      "metadata": {
        "id": "tSMjG0Ai04cI",
        "colab_type": "code",
        "outputId": "736f7072-60f0-406e-e61e-c860ac445a50",
        "colab": {
          "base_uri": "https://localhost:8080/",
          "height": 34
        }
      },
      "source": [
        "type(a)"
      ],
      "execution_count": 0,
      "outputs": [
        {
          "output_type": "execute_result",
          "data": {
            "text/plain": [
              "str"
            ]
          },
          "metadata": {
            "tags": []
          },
          "execution_count": 21
        }
      ]
    },
    {
      "cell_type": "code",
      "metadata": {
        "id": "aMOhaSnk1IwQ",
        "colab_type": "code",
        "outputId": "778c1112-810c-4398-fa7f-2d5cfa60656d",
        "colab": {
          "base_uri": "https://localhost:8080/",
          "height": 34
        }
      },
      "source": [
        "a = True\n",
        "type(a)"
      ],
      "execution_count": 0,
      "outputs": [
        {
          "output_type": "execute_result",
          "data": {
            "text/plain": [
              "bool"
            ]
          },
          "metadata": {
            "tags": []
          },
          "execution_count": 22
        }
      ]
    },
    {
      "cell_type": "code",
      "metadata": {
        "id": "jx3TJLSu118w",
        "colab_type": "code",
        "outputId": "37f32758-eeb7-4894-dcdf-1d1d304877ea",
        "colab": {
          "base_uri": "https://localhost:8080/",
          "height": 34
        }
      },
      "source": [
        "id(a)"
      ],
      "execution_count": 0,
      "outputs": [
        {
          "output_type": "execute_result",
          "data": {
            "text/plain": [
              "10302848"
            ]
          },
          "metadata": {
            "tags": []
          },
          "execution_count": 23
        }
      ]
    },
    {
      "cell_type": "code",
      "metadata": {
        "id": "EOHDaTbb17MX",
        "colab_type": "code",
        "outputId": "e6611432-9c8c-4f0f-a4b8-04301624ed5f",
        "colab": {
          "base_uri": "https://localhost:8080/",
          "height": 34
        }
      },
      "source": [
        "a = 'Am'\n",
        "b = 'eer'\n",
        "a+b"
      ],
      "execution_count": 0,
      "outputs": [
        {
          "output_type": "execute_result",
          "data": {
            "text/plain": [
              "'Ameer'"
            ]
          },
          "metadata": {
            "tags": []
          },
          "execution_count": 24
        }
      ]
    },
    {
      "cell_type": "code",
      "metadata": {
        "id": "767tpWxG2E9g",
        "colab_type": "code",
        "outputId": "2822d4f4-f1be-4487-ef62-409a5999958c",
        "colab": {
          "base_uri": "https://localhost:8080/",
          "height": 70
        }
      },
      "source": [
        "a = int(input('Enter 1st number'))\n",
        "b = int(input('Enter 2nd number'))\n",
        "c = a+b\n",
        "print(\"The sum of\",a,\" and \",b,\" is \",c )"
      ],
      "execution_count": 0,
      "outputs": [
        {
          "output_type": "stream",
          "text": [
            "Enter 1st number12\n",
            "Enter 2nd number34\n",
            "The sum of 12  and  34  is  46\n"
          ],
          "name": "stdout"
        }
      ]
    },
    {
      "cell_type": "code",
      "metadata": {
        "id": "ODLUQlwM2e6G",
        "colab_type": "code",
        "outputId": "097f6756-9889-4e01-f7b5-4e85656193f9",
        "colab": {
          "base_uri": "https://localhost:8080/",
          "height": 34
        }
      },
      "source": [
        "print(\"The sum of\"+str(a)+\" and \"+str(b)+\" is \"+str(c) )"
      ],
      "execution_count": 0,
      "outputs": [
        {
          "output_type": "stream",
          "text": [
            "The sum of12 and 34 is 46\n"
          ],
          "name": "stdout"
        }
      ]
    },
    {
      "cell_type": "code",
      "metadata": {
        "id": "q6HCjkHR3Qkw",
        "colab_type": "code",
        "outputId": "581a3646-9e5b-4316-96da-ab0a68e9e0db",
        "colab": {
          "base_uri": "https://localhost:8080/",
          "height": 122
        }
      },
      "source": [
        "a =3\n",
        "b =2\n",
        "print(a+b)\n",
        "print(a-b)\n",
        "print(a*b)\n",
        "print(a/b)\n",
        "print(a//b)\n",
        "print(a%b)\n"
      ],
      "execution_count": 0,
      "outputs": [
        {
          "output_type": "stream",
          "text": [
            "5\n",
            "1\n",
            "6\n",
            "1.5\n",
            "1\n",
            "1\n"
          ],
          "name": "stdout"
        }
      ]
    },
    {
      "cell_type": "code",
      "metadata": {
        "id": "j_JQu-lb4CdP",
        "colab_type": "code",
        "outputId": "0c047098-d57f-40a1-e860-30107e5b279a",
        "colab": {
          "base_uri": "https://localhost:8080/",
          "height": 34
        }
      },
      "source": [
        "\n",
        "def add(a,b):\n",
        "  print(a+b)\n",
        "add(12,34)"
      ],
      "execution_count": 0,
      "outputs": [
        {
          "output_type": "stream",
          "text": [
            "46\n"
          ],
          "name": "stdout"
        }
      ]
    },
    {
      "cell_type": "code",
      "metadata": {
        "id": "O11gl0kL6NlV",
        "colab_type": "code",
        "outputId": "278502d1-4784-4d32-f85f-354a4d6b2f05",
        "colab": {
          "base_uri": "https://localhost:8080/",
          "height": 210
        }
      },
      "source": [
        "def sum(a,b):\n",
        "    c = a+b\n",
        "    print (c)\n",
        "def dif(a,b):\n",
        "    c = a-b\n",
        "    print (c)\n",
        "def mul(a,b):\n",
        "    c = a*b\n",
        "    print (c)\n",
        "def div(a,b):\n",
        "    c = a/b\n",
        "    print (c)\n",
        "while True:\n",
        "    print(\" CALCULATOR\")\n",
        "    a = int(input(' Enter 1st :'))\n",
        "    b = int(input(' Enter 2nd :'))        \n",
        "    print(' Enter the Operation ')\n",
        "    choice =  input( ' A- Addition, S - Subtraction, M- Multiplication and D- Division ')\n",
        "    if( choice  == 'A'):\n",
        "        sum(a,b)\n",
        "    elif( choice  == 'S'):\n",
        "        dif(a,b)\n",
        "    elif( choice  == 'M'):\n",
        "        mul(a,b)\n",
        "    elif( choice  == 'D'):\n",
        "        div(a,b)\n",
        "    elif (choice == 'Q'):\n",
        "        break  #Breaking the loop\n",
        "    else:\n",
        "        print(' Wrong input')"
      ],
      "execution_count": 0,
      "outputs": [
        {
          "output_type": "stream",
          "text": [
            " CALCULATOR\n",
            " Enter 1st :12\n",
            " Enter 2nd :34\n",
            " Enter the Operation \n",
            " A- Addition, S - Subtraction, M- Multiplication and D- Division A\n",
            "46\n",
            " CALCULATOR\n",
            " Enter 1st :12\n",
            " Enter 2nd :23\n",
            " Enter the Operation \n",
            " A- Addition, S - Subtraction, M- Multiplication and D- Division Q\n"
          ],
          "name": "stdout"
        }
      ]
    },
    {
      "cell_type": "code",
      "metadata": {
        "id": "zwM2bfzg6RBG",
        "colab_type": "code",
        "outputId": "4d76a3ea-0049-427e-d816-9e1331538158",
        "colab": {
          "base_uri": "https://localhost:8080/",
          "height": 175
        }
      },
      "source": [
        "for i in range(1,10,1):\n",
        "  print(i)"
      ],
      "execution_count": 0,
      "outputs": [
        {
          "output_type": "stream",
          "text": [
            "1\n",
            "2\n",
            "3\n",
            "4\n",
            "5\n",
            "6\n",
            "7\n",
            "8\n",
            "9\n"
          ],
          "name": "stdout"
        }
      ]
    },
    {
      "cell_type": "code",
      "metadata": {
        "id": "kDXU78rX9YYV",
        "colab_type": "code",
        "colab": {}
      },
      "source": [
        ""
      ],
      "execution_count": 0,
      "outputs": []
    }
  ]
}